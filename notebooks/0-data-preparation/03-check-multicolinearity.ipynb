{
 "cells": [
  {
   "attachments": {},
   "cell_type": "markdown",
   "metadata": {},
   "source": [
    "# Check for Multicolinearity\n",
    "Use condition number and VIF (variance inflation factor) as indicators for multicolinearity."
   ]
  },
  {
   "cell_type": "code",
   "execution_count": 1,
   "metadata": {},
   "outputs": [],
   "source": [
    "from dataset import WineDataset\n",
    "from util import get_root\n",
    "from metric import get_metric\n",
    "from trainer import LinearRegression\n",
    "\n",
    "import numpy as np\n",
    "\n",
    "ROOT = get_root()\n",
    "data_path = ROOT / \"data/winequality-red.csv\"\n",
    "dataset = WineDataset(data_path)\n",
    "X_train, X_test, y_train, y_test  = dataset.split_data(.8)"
   ]
  },
  {
   "attachments": {},
   "cell_type": "markdown",
   "metadata": {},
   "source": [
    "## Condition Number"
   ]
  },
  {
   "cell_type": "code",
   "execution_count": 13,
   "metadata": {},
   "outputs": [
    {
     "data": {
      "text/plain": [
       "44.3957790366947"
      ]
     },
     "execution_count": 13,
     "metadata": {},
     "output_type": "execute_result"
    }
   ],
   "source": [
    "condition_number = get_metric(\"condition_number\")\n",
    "X_cen = X_train - X_train.mean(axis=0) # centralized\n",
    "X_stand = X_cen / X_train.std(axis=0) # standalized\n",
    "condition_number(X_stand.T@X_stand) "
   ]
  },
  {
   "attachments": {},
   "cell_type": "markdown",
   "metadata": {},
   "source": [
    "## VIF"
   ]
  },
  {
   "cell_type": "code",
   "execution_count": 14,
   "metadata": {},
   "outputs": [
    {
     "data": {
      "text/plain": [
       "[7.282102950731526,\n",
       " 1.2834928619554524,\n",
       " 1.7156637939854111,\n",
       " 1.3066441577349952,\n",
       " 1.8386933967198216,\n",
       " 2.0003428297655312,\n",
       " 6.741726239304557,\n",
       " 3.4266555611143548,\n",
       " 1.3980278858171542,\n",
       " 3.0057061524682904]"
      ]
     },
     "execution_count": 14,
     "metadata": {},
     "output_type": "execute_result"
    }
   ],
   "source": [
    "vif = get_metric(\"vif\")\n",
    "vif(X_stand)"
   ]
  }
 ],
 "metadata": {
  "kernelspec": {
   "display_name": ".venv",
   "language": "python",
   "name": "python3"
  },
  "language_info": {
   "codemirror_mode": {
    "name": "ipython",
    "version": 3
   },
   "file_extension": ".py",
   "mimetype": "text/x-python",
   "name": "python",
   "nbconvert_exporter": "python",
   "pygments_lexer": "ipython3",
   "version": "3.9.12"
  },
  "orig_nbformat": 4,
  "vscode": {
   "interpreter": {
    "hash": "701b288b3c8e5ac277057af55dbe2c3e951bc459fc4f81daed1263251d6b31cd"
   }
  }
 },
 "nbformat": 4,
 "nbformat_minor": 2
}
